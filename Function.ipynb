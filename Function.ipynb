{
 "cells": [
  {
   "cell_type": "code",
   "execution_count": 1,
   "id": "bdb0e5f2-6562-4df5-bd72-8ddac7f7841b",
   "metadata": {},
   "outputs": [
    {
     "name": "stdout",
     "output_type": "stream",
     "text": [
      "Sum of 5 and 10: 15\n",
      "Sum of 5 and 20: 25\n",
      "Product of 5, 20, and 3: 300\n"
     ]
    }
   ],
   "source": [
    "def custom_function(a, b=10, c=None):\n",
    "    if c is None:\n",
    "        print(f\"Sum of {a} and {b}: {a + b}\")\n",
    "    else:\n",
    "        print(f\"Product of {a}, {b}, and {c}: {a * b * c}\")\n",
    "\n",
    "# Example usage\n",
    "custom_function(5)          # Sum of 5 and 10\n",
    "custom_function(5, 20)      # Sum of 5 and 20\n",
    "custom_function(5, 20, 3)   # Product of 5, 20, and 3\n"
   ]
  },
  {
   "cell_type": "code",
   "execution_count": 5,
   "id": "53819a80-928c-4c27-bc4c-09512c06a02e",
   "metadata": {},
   "outputs": [
    {
     "name": "stdout",
     "output_type": "stream",
     "text": [
      "['apple', 'banana', 'elephant']\n"
     ]
    }
   ],
   "source": [
    "def filter_long_strings(strings):\n",
    "    return [string for string in strings if len(string) >= 5]\n",
    "\n",
    "words = [\"apple\", \"dog\", \"banana\", \"cat\", \"elephant\"]\n",
    "filtered_words = filter_long_strings(words)\n",
    "print(filtered_words)  \n",
    "\n"
   ]
  },
  {
   "cell_type": "code",
   "execution_count": 7,
   "id": "10e2f245-39e4-4305-aa47-ec3cc812235f",
   "metadata": {},
   "outputs": [
    {
     "name": "stdout",
     "output_type": "stream",
     "text": [
      "The result of the expression '3*5+2' is: 17\n"
     ]
    }
   ],
   "source": [
    "expression = \"3*5+2\"\n",
    "\n",
    "result = eval(expression)\n",
    "\n",
    "print(f\"The result of the expression '{expression}' is: {result}\")\n"
   ]
  },
  {
   "cell_type": "code",
   "execution_count": 9,
   "id": "277f4802-7493-4f58-88df-14476ba4ab30",
   "metadata": {},
   "outputs": [
    {
     "name": "stdout",
     "output_type": "stream",
     "text": [
      "Prime numbers: [2, 3, 5, 13, 17, 19]\n"
     ]
    }
   ],
   "source": [
    "def is_prime(n):\n",
    "    if n < 2:\n",
    "        return False\n",
    "    for i in range(2, int(n ** 0.5) + 1):\n",
    "        if n % i == 0:\n",
    "            return False\n",
    "    return True\n",
    "\n",
    "numbers = [2, 3, 4, 5, 10, 13, 17, 18, 19, 20]\n",
    "\n",
    "prime_numbers = list(filter(is_prime, numbers))\n",
    "\n",
    "print(\"Prime numbers:\", prime_numbers)\n"
   ]
  },
  {
   "cell_type": "code",
   "execution_count": 11,
   "id": "5e5864b8-c600-43aa-9d73-8458c276b6fb",
   "metadata": {},
   "outputs": [
    {
     "name": "stdout",
     "output_type": "stream",
     "text": [
      "Uppercase words: ['I', 'AM ', 'PYTHON', 'PROGRAMMING', 'LANGUAGE']\n"
     ]
    }
   ],
   "source": [
    "\n",
    "words = [\"I\", \"am \", \"python\", \"programming\", \"Language\"]\n",
    "\n",
    "uppercase_words = list(map(str.upper, words))\n",
    "\n",
    "print(\"Uppercase words:\", uppercase_words)\n"
   ]
  },
  {
   "cell_type": "code",
   "execution_count": null,
   "id": "f74cb379-3e40-4ed7-a7ae-5ef87cb92441",
   "metadata": {},
   "outputs": [],
   "source": []
  }
 ],
 "metadata": {
  "kernelspec": {
   "display_name": "Python [conda env:base] *",
   "language": "python",
   "name": "conda-base-py"
  },
  "language_info": {
   "codemirror_mode": {
    "name": "ipython",
    "version": 3
   },
   "file_extension": ".py",
   "mimetype": "text/x-python",
   "name": "python",
   "nbconvert_exporter": "python",
   "pygments_lexer": "ipython3",
   "version": "3.12.7"
  }
 },
 "nbformat": 4,
 "nbformat_minor": 5
}
