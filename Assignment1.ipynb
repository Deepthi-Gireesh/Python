{
 "cells": [
  {
   "cell_type": "code",
   "execution_count": 11,
   "id": "a7ae9d23-98b1-4050-874a-8ef95d814b87",
   "metadata": {},
   "outputs": [
    {
     "name": "stdout",
     "output_type": "stream",
     "text": [
      "Student Information:\n",
      "Deepthi Mol T S\n",
      "9881238968\n",
      "deepthigireesh2@gmail.com\n"
     ]
    }
   ],
   "source": [
    "print(\"Student Information:\")\n",
    "print(\"Deepthi Mol T S\")\n",
    "print(\"9881238968\")\n",
    "print(\"deepthigireesh2@gmail.com\")\n"
   ]
  },
  {
   "cell_type": "code",
   "execution_count": 13,
   "id": "4e7e22e6-f968-4c7a-9d2a-e9d037ddd02b",
   "metadata": {},
   "outputs": [
    {
     "name": "stdout",
     "output_type": "stream",
     "text": [
      "Student Information:\n",
      "\n",
      "Name:\t Deepthi Mol T S\n",
      "Student Number:\t 9881238968\n",
      "Email Address:\t deepthigireesh2@gmail.com\n"
     ]
    }
   ],
   "source": [
    "    \n",
    "    print(\"Student Information:\\n\")\n",
    "    print(\"Name:\\t Deepthi Mol T S\")\n",
    "    print(\"Student Number:\\t 9881238968\")\n",
    "    print(\"Email Address:\\t deepthigireesh2@gmail.com\")\n"
   ]
  },
  {
   "cell_type": "code",
   "execution_count": 15,
   "id": "8a0f1e71-5c28-4687-831b-e34956a444d0",
   "metadata": {},
   "outputs": [
    {
     "name": "stdout",
     "output_type": "stream",
     "text": [
      "\n",
      "Arithmetic Operations:\n",
      "\n",
      " Sum of a and b is : 21\n",
      "\n",
      " Subtraction of a and b : 7\n",
      "\n",
      " Multiplication of a and b : 98\n",
      "\n",
      " Division of a and b : 2.0\n"
     ]
    }
   ],
   "source": [
    "a = 14\n",
    "b = 7\n",
    "\n",
    "addition = a + b\n",
    "subtraction = a - b\n",
    "multiplication = a * b\n",
    "division = a / b\n",
    "\n",
    "print(\"\\nArithmetic Operations:\")\n",
    "print(\"\\n Sum of a and b is :\", a+b)\n",
    "print(\"\\n Subtraction of a and b :\", a-b)\n",
    "print(\"\\n Multiplication of a and b :\", a*b)\n",
    "print(\"\\n Division of a and b :\", a/b)"
   ]
  },
  {
   "cell_type": "code",
   "execution_count": 23,
   "id": "62dccbfa-f742-4ab3-8d86-b206793181bc",
   "metadata": {},
   "outputs": [
    {
     "name": "stdout",
     "output_type": "stream",
     "text": [
      "\n",
      "Number from 1 to 6:\n",
      "1\n",
      "2\n",
      "3\n",
      "4\n",
      "5\n"
     ]
    }
   ],
   "source": [
    "print(\"\\nNumber from 1 to 6:\")\n",
    "for i in range(1, 6):\n",
    "    print(i)"
   ]
  },
  {
   "cell_type": "code",
   "execution_count": 51,
   "id": "141c6397-e99f-4724-9a3e-117bff419d8b",
   "metadata": {},
   "outputs": [
    {
     "name": "stdout",
     "output_type": "stream",
     "text": [
      "\n",
      "\"SDK\" stands for \"Software Development Kit\",\n",
      "Whereas\n",
      "\"IDE\" stands for \"Integrated Development Environment\".\n"
     ]
    }
   ],
   "source": [
    "print(\"\\n\\\"SDK\\\" stands for \\\"Software Development Kit\\\",\\nWhereas\\n\\\"IDE\\\" stands for \\\"Integrated Development Environment\\\".\")\n"
   ]
  },
  {
   "cell_type": "code",
   "execution_count": 53,
   "id": "fc07d96d-2983-4ff0-b405-3a4fe5f8420c",
   "metadata": {},
   "outputs": [
    {
     "name": "stdout",
     "output_type": "stream",
     "text": [
      "python ia an \"awesome\" language.\n",
      "python\n",
      "\t2023\n",
      "I'm from Entri\n",
      "5\n",
      "e\n",
      "Entri\n",
      "2023\n",
      "Entr2023\n",
      "Entri*20"
     ]
    }
   ],
   "source": [
    "print(\"python ia an \\\"awesome\\\" language.\")\n",
    "print(\"python\\n\\t2023\")\n",
    "print('I\\'m from Entri.\\b')\n",
    "print(\"\\65\")\n",
    "print(\"\\x65\")\n",
    "print(\"Entri\",\"2023\", sep= \"\\n\")\n",
    "print(\"Entri\",\"2023\", sep= \"\\b\")\n",
    "print(\"Entri\",\"2023\", sep= \"*\",end =\"\\b\\b\\b\\b\")\n",
    "\n",
    "\n"
   ]
  },
  {
   "cell_type": "code",
   "execution_count": 55,
   "id": "992248a7-1ef7-4261-9716-0ec64d9e73d5",
   "metadata": {},
   "outputs": [
    {
     "name": "stdout",
     "output_type": "stream",
     "text": [
      "\n",
      "Variable Types:\n",
      "Type of num: <class 'int'>\n",
      "Type of textnum: <class 'str'>\n",
      "Type of decimal: <class 'float'>\n",
      "\n",
      "Sum of variables: 178.3\n",
      "Type of sum: <class 'float'>\n"
     ]
    }
   ],
   "source": [
    "num = 23\n",
    "textnum = \"57\"\n",
    "decimal = 98.3\n",
    "\n",
    "print(\"\\nVariable Types:\")\n",
    "print(f\"Type of num: {type(num)}\")\n",
    "print(f\"Type of textnum: {type(textnum)}\")\n",
    "print(f\"Type of decimal: {type(decimal)}\")\n",
    "\n",
    "total_sum = num + int(textnum) + decimal\n",
    "\n",
    "print(\"\\nSum of variables:\", total_sum)\n",
    "print(\"Type of sum:\", type(total_sum))\n"
   ]
  },
  {
   "cell_type": "code",
   "execution_count": 57,
   "id": "9c62ca7b-2f78-4c03-a6df-659f08e5b13a",
   "metadata": {},
   "outputs": [
    {
     "name": "stdout",
     "output_type": "stream",
     "text": [
      "\n",
      "This program calculates the total number of minutes in a year.\n",
      "Number of days in a year: 365\n",
      "Number of hours in a day: 24\n",
      "Number of minutes in an hour: 60\n",
      "Total number of minutes in a year: 525600\n"
     ]
    }
   ],
   "source": [
    "print(\"\\nThis program calculates the total number of minutes in a year.\")\n",
    "days_in_year = 365\n",
    "hours_in_day = 24\n",
    "minutes_in_hour = 60\n",
    "\n",
    "total_minutes_in_year = days_in_year * hours_in_day * minutes_in_hour\n",
    "\n",
    "print(f\"Number of days in a year: {days_in_year}\")\n",
    "print(f\"Number of hours in a day: {hours_in_day}\")\n",
    "print(f\"Number of minutes in an hour: {minutes_in_hour}\")\n",
    "print(f\"Total number of minutes in a year: {total_minutes_in_year}\")"
   ]
  },
  {
   "cell_type": "code",
   "execution_count": 59,
   "id": "bfd467bd-8ad5-4383-ae73-e3172680692c",
   "metadata": {},
   "outputs": [
    {
     "name": "stdin",
     "output_type": "stream",
     "text": [
      "Please enter your name:  Deepthi Gireesh\n"
     ]
    },
    {
     "name": "stdout",
     "output_type": "stream",
     "text": [
      "Hi Deepthi Gireesh, welcome to Python programming :)\n"
     ]
    }
   ],
   "source": [
    "user_name = input(\"Please enter your name: \")\n",
    "print(f\"Hi {user_name}, welcome to Python programming :)\")"
   ]
  },
  {
   "cell_type": "code",
   "execution_count": 61,
   "id": "3fe2e67f-dd50-4483-aec7-e715666037f5",
   "metadata": {},
   "outputs": [
    {
     "name": "stdin",
     "output_type": "stream",
     "text": [
      "\n",
      "Please enter amount in pounds:  500\n"
     ]
    },
    {
     "name": "stdout",
     "output_type": "stream",
     "text": [
      "£ 500.0 are $ 690.00\n"
     ]
    }
   ],
   "source": [
    "pounds = float(input(\"\\nPlease enter amount in pounds: \"))\n",
    "exchange_rate = 1.38  # Example exchange rate, update as needed\n",
    "dollars = pounds * exchange_rate\n",
    "print(f\"\\u00A3 {pounds} are $ {dollars:.2f}\")"
   ]
  },
  {
   "cell_type": "code",
   "execution_count": null,
   "id": "88376cde-8da6-4dc6-9576-087c1187909a",
   "metadata": {},
   "outputs": [],
   "source": []
  }
 ],
 "metadata": {
  "kernelspec": {
   "display_name": "Python [conda env:base] *",
   "language": "python",
   "name": "conda-base-py"
  },
  "language_info": {
   "codemirror_mode": {
    "name": "ipython",
    "version": 3
   },
   "file_extension": ".py",
   "mimetype": "text/x-python",
   "name": "python",
   "nbconvert_exporter": "python",
   "pygments_lexer": "ipython3",
   "version": "3.12.7"
  }
 },
 "nbformat": 4,
 "nbformat_minor": 5
}
