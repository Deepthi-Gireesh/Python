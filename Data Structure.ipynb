{
 "cells": [
  {
   "cell_type": "code",
   "execution_count": 5,
   "id": "bdb0e5f2-6562-4df5-bd72-8ddac7f7841b",
   "metadata": {},
   "outputs": [
    {
     "name": "stdout",
     "output_type": "stream",
     "text": [
      "\n",
      "List of 5 random numbers: [13, 46, 17, 56, 78]\n",
      "Updated list after adding 3 new values: [13, 46, 17, 56, 78, 27, 31, 13]\n",
      "Elements in the list:\n",
      "13\n",
      "46\n",
      "17\n",
      "56\n",
      "78\n",
      "27\n",
      "31\n",
      "13\n"
     ]
    }
   ],
   "source": [
    "#List Exercise\n",
    "import random\n",
    "\n",
    "random_numbers = [random.randint(1, 100) for _ in range(5)]\n",
    "print(\"\\nList of 5 random numbers:\", random_numbers)\n",
    "\n",
    "\n",
    "random_numbers.extend([random.randint(1, 100) for _ in range(3)])\n",
    "print(\"Updated list after adding 3 new values:\", random_numbers)\n",
    "\n",
    "\n",
    "print(\"Elements in the list:\")\n",
    "for num in random_numbers:\n",
    "    print(num)"
   ]
  },
  {
   "cell_type": "code",
   "execution_count": 9,
   "id": "6d7360f7-1b88-4675-ae4e-7cda79bfa783",
   "metadata": {},
   "outputs": [
    {
     "name": "stdout",
     "output_type": "stream",
     "text": [
      "\n",
      "Dictionary: {'name': 'James', 'age': 25, 'address': 'USA'}\n",
      "Updated Dictionary: {'name': 'James', 'age': 25, 'address': 'USA', 'phone': '1234567890'}\n"
     ]
    }
   ],
   "source": [
    "# 1.\n",
    "person_info = {\n",
    "    \"name\": \"James\",\n",
    "    \"age\": 25,\n",
    "    \"address\": \"USA\"\n",
    "}\n",
    "print(\"\\nDictionary:\", person_info)\n",
    "\n",
    "#2.\n",
    "person_info[\"phone\"] = \"1234567890\"\n",
    "print(\"Updated Dictionary:\", person_info)"
   ]
  },
  {
   "cell_type": "code",
   "execution_count": 11,
   "id": "12675ef1-d25e-440a-a47a-e18bd57c9934",
   "metadata": {},
   "outputs": [
    {
     "name": "stdout",
     "output_type": "stream",
     "text": [
      "\n",
      "Set: {1, 2, 3, 4, 5}\n",
      "Set after adding 6: {1, 2, 3, 4, 5, 6}\n",
      "Set after removing 3: {1, 2, 4, 5, 6}\n"
     ]
    }
   ],
   "source": [
    "\n",
    "# 1\n",
    "number_set = {1, 2, 3, 4, 5}\n",
    "print(\"\\nSet:\", number_set)\n",
    "\n",
    "# 2\n",
    "number_set.add(6)\n",
    "print(\"Set after adding 6:\", number_set)\n",
    "\n",
    "# 3\n",
    "number_set.remove(3)\n",
    "print(\"Set after removing 3:\", number_set)\n"
   ]
  },
  {
   "cell_type": "code",
   "execution_count": 13,
   "id": "bb9c4d1d-5010-406a-99a8-a9885abfc6ac",
   "metadata": {},
   "outputs": [
    {
     "name": "stdout",
     "output_type": "stream",
     "text": [
      "\n",
      "Tuple: (1, 2, 3, 4)\n",
      "Length of the tuple: 4\n"
     ]
    }
   ],
   "source": [
    "# 1\n",
    "tuple_values = (1, 2, 3, 4)\n",
    "print(\"\\nTuple:\", tuple_values)\n",
    "\n",
    "# 2\n",
    "print(\"Length of the tuple:\", len(tuple_values))"
   ]
  },
  {
   "cell_type": "code",
   "execution_count": null,
   "id": "6a4fd7ba-4211-468f-bace-66276b61053e",
   "metadata": {},
   "outputs": [],
   "source": []
  }
 ],
 "metadata": {
  "kernelspec": {
   "display_name": "Python [conda env:base] *",
   "language": "python",
   "name": "conda-base-py"
  },
  "language_info": {
   "codemirror_mode": {
    "name": "ipython",
    "version": 3
   },
   "file_extension": ".py",
   "mimetype": "text/x-python",
   "name": "python",
   "nbconvert_exporter": "python",
   "pygments_lexer": "ipython3",
   "version": "3.12.7"
  }
 },
 "nbformat": 4,
 "nbformat_minor": 5
}
