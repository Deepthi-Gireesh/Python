{
 "cells": [
  {
   "cell_type": "code",
   "execution_count": 11,
   "id": "bdb0e5f2-6562-4df5-bd72-8ddac7f7841b",
   "metadata": {},
   "outputs": [],
   "source": [
    "\n",
    "def read_file(readme):\n",
    "    try:\n",
    "        with open(readme, 'r') as file:  \n",
    "            contents = file.read()  \n",
    "            print(\"File Contents:\\n\")\n",
    "            print(contents)  \n",
    "    except FileNotFoundError:\n",
    "        print(\"Error: The file does not exist.\")\n",
    "    except Exception as e:\n",
    "        print(f\"An error occurred: {e}\")\n",
    "        readme = \"example.txt\"  \n",
    "        read_file(readme)\n",
    "        \n",
    "\n",
    "\n",
    "\n"
   ]
  },
  {
   "cell_type": "code",
   "execution_count": 9,
   "id": "3c7eefd7-2e8e-41ab-b3a0-64978c3d5b12",
   "metadata": {},
   "outputs": [
    {
     "name": "stdout",
     "output_type": "stream",
     "text": [
      "Error: The source file does not exist.\n"
     ]
    }
   ],
   "source": [
    "\n",
    "def copy_file(source_file, destination_file):\n",
    "    try:\n",
    "        with open(source_file, 'r') as src:  \n",
    "            contents = src.read()  \n",
    "\n",
    "        with open(destination_file, 'w') as dest:  \n",
    "            dest.write(contents)  \n",
    "\n",
    "        print(f\"Contents copied from {source_file} to {destination_file} successfully.\")\n",
    "\n",
    "    except FileNotFoundError:\n",
    "        print(\"Error: The source file does not exist.\")\n",
    "    except Exception as e:\n",
    "        print(f\"An error occurred: {e}\")\n",
    "\n",
    "\n",
    "source = \"source.txt\"  \n",
    "destination = \"destination.txt\"  \n",
    "copy_file(source, destination)\n"
   ]
  },
  {
   "cell_type": "code",
   "execution_count": 17,
   "id": "fa24bd25-ee49-4f83-8139-69893938aec0",
   "metadata": {},
   "outputs": [
    {
     "name": "stdout",
     "output_type": "stream",
     "text": [
      "Error: The file does not exist.\n"
     ]
    }
   ],
   "source": [
    "\n",
    "def count_words_in_file(filename):\n",
    "    try:\n",
    "        with open(filename, 'r') as file: \n",
    "            contents = file.read()  \n",
    "            words = contents.split()  \n",
    "            word_count = len(words)  \n",
    "            \n",
    "            print(f\"Total number of words in '{filename}': {word_count}\")\n",
    "    \n",
    "    except FileNotFoundError:\n",
    "        print(\"Error: The file does not exist.\")\n",
    "    except Exception as e:\n",
    "        print(f\"An error occurred: {e}\")\n",
    "\n",
    "\n",
    "filename = \"example.txt\"  \n",
    "count_words_in_file(filename)\n"
   ]
  },
  {
   "cell_type": "code",
   "execution_count": 21,
   "id": "11bfa353-ca22-484d-beed-160ab5d11063",
   "metadata": {},
   "outputs": [
    {
     "name": "stdin",
     "output_type": "stream",
     "text": [
      "Enter a number:  5\n"
     ]
    },
    {
     "name": "stdout",
     "output_type": "stream",
     "text": [
      "Successfully converted! The integer is: 5\n"
     ]
    }
   ],
   "source": [
    "\n",
    "def convert_to_integer():\n",
    "    try:\n",
    "        user_input = input(\"Enter a number: \")  \n",
    "        num = int(user_input)  \n",
    "        print(f\"Successfully converted! The integer is: {num}\")\n",
    "    except ValueError:\n",
    "        print(\"Error: Invalid input! Please enter a valid integer.\")\n",
    "    except Exception as e:\n",
    "        print(f\"An unexpected error occurred: {e}\")\n",
    "\n",
    "\n",
    "convert_to_integer()\n"
   ]
  },
  {
   "cell_type": "code",
   "execution_count": 25,
   "id": "4964e47e-515d-4de9-a0ab-ea8e083e10ac",
   "metadata": {},
   "outputs": [
    {
     "name": "stdin",
     "output_type": "stream",
     "text": [
      "Enter a list of integers separated by spaces:  7 8 6 4\n"
     ]
    },
    {
     "name": "stdout",
     "output_type": "stream",
     "text": [
      "All numbers are positive: [7, 8, 6, 4]\n"
     ]
    }
   ],
   "source": [
    "\n",
    "def check_positive_numbers():\n",
    "    try:\n",
    "        \n",
    "        user_input = input(\"Enter a list of integers separated by spaces: \")\n",
    "        \n",
    "        numbers = list(map(int, user_input.split()))\n",
    "        \n",
    "        for num in numbers:\n",
    "            if num < 0:\n",
    "                raise ValueError(\"Negative numbers are not allowed!\")\n",
    "        \n",
    "        print(\"All numbers are positive:\", numbers)\n",
    "    \n",
    "    except ValueError as e:\n",
    "        print(f\"Error: {e}\")\n",
    "    except Exception as e:\n",
    "        print(f\"An unexpected error occurred: {e}\")\n",
    "\n",
    "check_positive_numbers()\n"
   ]
  },
  {
   "cell_type": "code",
   "execution_count": 27,
   "id": "b4b4c3c2-4dd2-4a3f-bd1e-f0967943fd5a",
   "metadata": {},
   "outputs": [
    {
     "name": "stdin",
     "output_type": "stream",
     "text": [
      "Enter a list of integers separated by spaces:  7 6 5 4 32 32\n"
     ]
    },
    {
     "name": "stdout",
     "output_type": "stream",
     "text": [
      "The average of the given numbers is: 14.33\n",
      "Program has finished running.\n"
     ]
    }
   ],
   "source": [
    "\n",
    "def compute_average():\n",
    "    try:\n",
    "        \n",
    "        user_input = input(\"Enter a list of integers separated by spaces: \")\n",
    "\n",
    "        \n",
    "        numbers = list(map(int, user_input.split()))\n",
    "\n",
    "        \n",
    "        if not numbers:\n",
    "            raise ValueError(\"List cannot be empty!\")\n",
    "\n",
    "        \n",
    "        avg = sum(numbers) / len(numbers)\n",
    "        print(f\"The average of the given numbers is: {avg:.2f}\")\n",
    "\n",
    "    except ValueError as e:\n",
    "        print(f\"Error: {e}. Please enter valid integers.\")\n",
    "    except Exception as e:\n",
    "        print(f\"An unexpected error occurred: {e}\")\n",
    "    finally:\n",
    "        print(\"Program has finished running.\")\n",
    "\n",
    "\n",
    "compute_average()\n"
   ]
  },
  {
   "cell_type": "code",
   "execution_count": 31,
   "id": "ca525e5e-6202-4302-9800-e38aa93e7bdf",
   "metadata": {},
   "outputs": [
    {
     "name": "stdin",
     "output_type": "stream",
     "text": [
      "Enter a list of integers separated by spaces:  6 8 54 67 89 32\n"
     ]
    },
    {
     "name": "stdout",
     "output_type": "stream",
     "text": [
      "The average of the given numbers is: 42.67\n",
      "Program has finished running.\n"
     ]
    }
   ],
   "source": [
    "\n",
    "def compute_average():\n",
    "    try:\n",
    "        \n",
    "        user_input = input(\"Enter a list of integers separated by spaces: \").strip()\n",
    "\n",
    "        \n",
    "        if not user_input:\n",
    "            raise ValueError(\"Input cannot be empty! Please enter some numbers.\")\n",
    "\n",
    "        \n",
    "        numbers = list(map(int, user_input.split()))\n",
    "\n",
    "        \n",
    "        if not numbers:\n",
    "            raise ValueError(\"List cannot be empty! Please enter at least one number.\")\n",
    "\n",
    "        \n",
    "        avg = sum(numbers) / len(numbers)\n",
    "        print(f\"The average of the given numbers is: {avg:.2f}\")\n",
    "\n",
    "    except ValueError as e:\n",
    "        print(f\"Error: {e}. Please enter valid integers.\")\n",
    "    except Exception as e:\n",
    "        print(f\"An unexpected error occurred: {e}\")\n",
    "    finally:\n",
    "        print(\"Program has finished running.\")\n",
    "\n",
    "\n",
    "compute_average()\n"
   ]
  },
  {
   "cell_type": "code",
   "execution_count": null,
   "id": "2432c71c-c376-4459-83eb-e0f4fb45bc8f",
   "metadata": {},
   "outputs": [],
   "source": []
  }
 ],
 "metadata": {
  "kernelspec": {
   "display_name": "Python [conda env:base] *",
   "language": "python",
   "name": "conda-base-py"
  },
  "language_info": {
   "codemirror_mode": {
    "name": "ipython",
    "version": 3
   },
   "file_extension": ".py",
   "mimetype": "text/x-python",
   "name": "python",
   "nbconvert_exporter": "python",
   "pygments_lexer": "ipython3",
   "version": "3.12.7"
  }
 },
 "nbformat": 4,
 "nbformat_minor": 5
}
