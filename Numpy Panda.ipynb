{
 "cells": [
  {
   "cell_type": "code",
   "execution_count": 1,
   "id": "aa318410-6097-4a9b-886e-0bce7a386e5e",
   "metadata": {},
   "outputs": [
    {
     "name": "stdout",
     "output_type": "stream",
     "text": [
      "[[ 1  2  3  4  5]\n",
      " [ 6  7  8  9 10]]\n"
     ]
    }
   ],
   "source": [
    "import numpy as np\n",
    "\n",
    "arr = np.arange(1, 11)\n",
    "\n",
    "reshaped_arr = arr.reshape(2, 5)\n",
    "print(reshaped_arr)\n"
   ]
  },
  {
   "cell_type": "code",
   "execution_count": 3,
   "id": "5f8737ea-5eb9-43eb-bd84-a9fefb76be12",
   "metadata": {},
   "outputs": [
    {
     "name": "stdout",
     "output_type": "stream",
     "text": [
      "[ 6  7  8  9 10 11 12 13 14 15 16]\n"
     ]
    }
   ],
   "source": [
    "import numpy as np\n",
    "\n",
    "arr = np.arange(1, 21)\n",
    "\n",
    "extracted_elements = arr[5:16]  \n",
    "print(extracted_elements)\n"
   ]
  },
  {
   "cell_type": "code",
   "execution_count": 5,
   "id": "774240f2-2156-4e5d-ae48-94a034202d04",
   "metadata": {},
   "outputs": [
    {
     "name": "stdout",
     "output_type": "stream",
     "text": [
      "apples     3\n",
      "bananas    2\n",
      "oranges    1\n",
      "pears      4\n",
      "dtype: int64\n"
     ]
    }
   ],
   "source": [
    "import pandas as pd\n",
    "\n",
    "data = {'apples': 3, 'bananas': 2, 'oranges': 1}\n",
    "series = pd.Series(data)\n",
    "\n",
    "series['pears'] = 4\n",
    "\n",
    "print(series)\n"
   ]
  },
  {
   "cell_type": "code",
   "execution_count": 9,
   "id": "61967126-0a9b-45c4-aa8d-94747c2fb334",
   "metadata": {},
   "outputs": [
    {
     "name": "stdout",
     "output_type": "stream",
     "text": [
      "      name  age  gender\n",
      "0    Alice   25  Female\n",
      "1      Bob   30    Male\n",
      "2  Charlie   22    Male\n",
      "3    David   35    Male\n",
      "4     Emma   28  Female\n",
      "5    Frank   40    Male\n",
      "6    Grace   26  Female\n",
      "7   Hannah   32  Female\n",
      "8      Ian   29    Male\n",
      "9     Jack   27    Male\n"
     ]
    }
   ],
   "source": [
    "import pandas as pd\n",
    "\n",
    "# Creating the dataframe\n",
    "data = {\n",
    "    \"name\": [\"Alice\", \"Bob\", \"Charlie\", \"David\", \"Emma\", \"Frank\", \"Grace\", \"Hannah\", \"Ian\", \"Jack\"],\n",
    "    \"age\": [25, 30, 22, 35, 28, 40, 26, 32, 29, 27],\n",
    "    \"gender\": [\"Female\", \"Male\", \"Male\", \"Male\", \"Female\", \"Male\", \"Female\", \"Female\", \"Male\", \"Male\"]\n",
    "}\n",
    "\n",
    "df = pd.DataFrame(data)\n",
    "print(df)\n"
   ]
  },
  {
   "cell_type": "code",
   "execution_count": 11,
   "id": "f193148e-8342-4fbd-9f2d-e70e1e7f3b93",
   "metadata": {},
   "outputs": [
    {
     "name": "stdout",
     "output_type": "stream",
     "text": [
      "      name  age  gender  occupation\n",
      "0    Alice   25  Female  Programmer\n",
      "1      Bob   30    Male     Manager\n",
      "2  Charlie   22    Male     Analyst\n",
      "3    David   35    Male  Programmer\n",
      "4     Emma   28  Female     Manager\n",
      "5    Frank   40    Male     Analyst\n",
      "6    Grace   26  Female  Programmer\n",
      "7   Hannah   32  Female     Manager\n",
      "8      Ian   29    Male     Analyst\n",
      "9     Jack   27    Male  Programmer\n"
     ]
    }
   ],
   "source": [
    "import pandas as pd\n",
    "\n",
    "\n",
    "data = {\n",
    "    \"name\": [\"Alice\", \"Bob\", \"Charlie\", \"David\", \"Emma\", \"Frank\", \"Grace\", \"Hannah\", \"Ian\", \"Jack\"],\n",
    "    \"age\": [25, 30, 22, 35, 28, 40, 26, 32, 29, 27],\n",
    "    \"gender\": [\"Female\", \"Male\", \"Male\", \"Male\", \"Female\", \"Male\", \"Female\", \"Female\", \"Male\", \"Male\"]\n",
    "}\n",
    "\n",
    "df = pd.DataFrame(data)\n",
    "\n",
    "\n",
    "occupations = [\"Programmer\", \"Manager\", \"Analyst\", \"Programmer\", \"Manager\",\n",
    "               \"Analyst\", \"Programmer\", \"Manager\", \"Analyst\", \"Programmer\"]\n",
    "\n",
    "df[\"occupation\"] = occupations\n",
    "\n",
    "\n",
    "print(df)\n"
   ]
  },
  {
   "cell_type": "code",
   "execution_count": 13,
   "id": "a0c4e741-03a9-4d4d-aeda-466822410115",
   "metadata": {},
   "outputs": [
    {
     "name": "stdout",
     "output_type": "stream",
     "text": [
      "     name  age  gender  occupation\n",
      "1     Bob   30    Male     Manager\n",
      "3   David   35    Male  Programmer\n",
      "5   Frank   40    Male     Analyst\n",
      "7  Hannah   32  Female     Manager\n"
     ]
    }
   ],
   "source": [
    "\n",
    "df_filtered = df[df[\"age\"] >= 30]\n",
    "\n",
    "\n",
    "print(df_filtered)\n"
   ]
  },
  {
   "cell_type": "code",
   "execution_count": 15,
   "id": "1de741d1-971b-4f0b-9e38-a5fffb9cdbac",
   "metadata": {},
   "outputs": [
    {
     "name": "stdout",
     "output_type": "stream",
     "text": [
      "      name  age  gender  occupation\n",
      "0    Alice   25  Female  Programmer\n",
      "1      Bob   30    Male     Manager\n",
      "2  Charlie   22    Male     Analyst\n",
      "3    David   35    Male  Programmer\n",
      "4     Emma   28  Female     Manager\n",
      "5    Frank   40    Male     Analyst\n",
      "6    Grace   26  Female  Programmer\n",
      "7   Hannah   32  Female     Manager\n",
      "8      Ian   29    Male     Analyst\n",
      "9     Jack   27    Male  Programmer\n"
     ]
    }
   ],
   "source": [
    "\n",
    "df.to_csv(\"data.csv\", index=False)\n",
    "\n",
    "\n",
    "df_read = pd.read_csv(\"data.csv\")\n",
    "\n",
    "\n",
    "print(df_read)\n"
   ]
  },
  {
   "cell_type": "code",
   "execution_count": null,
   "id": "d96a5476-7756-4c60-849b-559e6a911222",
   "metadata": {},
   "outputs": [],
   "source": []
  }
 ],
 "metadata": {
  "kernelspec": {
   "display_name": "Python [conda env:base] *",
   "language": "python",
   "name": "conda-base-py"
  },
  "language_info": {
   "codemirror_mode": {
    "name": "ipython",
    "version": 3
   },
   "file_extension": ".py",
   "mimetype": "text/x-python",
   "name": "python",
   "nbconvert_exporter": "python",
   "pygments_lexer": "ipython3",
   "version": "3.12.7"
  }
 },
 "nbformat": 4,
 "nbformat_minor": 5
}
